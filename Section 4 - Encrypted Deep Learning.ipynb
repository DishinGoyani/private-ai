{
 "cells": [
  {
   "cell_type": "markdown",
   "metadata": {
    "colab_type": "text",
    "id": "YLwRygJQRGO-"
   },
   "source": [
    "# Section: Encrypted Deep Learning\n",
    "\n",
    "- Lesson: Reviewing Additive Secret Sharing\n",
    "- Lesson: Encrypted Subtraction and Public/Scalar Multiplication\n",
    "- Lesson: Encrypted Computation in PySyft\n",
    "- Project: Build an Encrypted Database\n",
    "- Lesson: Encrypted Deep Learning in PyTorch\n",
    "- Lesson: Encrypted Deep Learning in Keras\n",
    "- Final Project"
   ]
  },
  {
   "cell_type": "markdown",
   "metadata": {
    "colab_type": "text",
    "id": "7a2dMTRqRGPL"
   },
   "source": [
    "# Lesson: Reviewing Additive Secret Sharing\n",
    "\n",
    "_For more great information about SMPC protocols like this one, visit https://mortendahl.github.io. With permission, Morten's work directly inspired this first teaching segment._"
   ]
  },
  {
   "cell_type": "code",
   "execution_count": 0,
   "metadata": {
    "colab": {},
    "colab_type": "code",
    "id": "iXdgAftbRGPU"
   },
   "outputs": [],
   "source": [
    "import random\n",
    "import numpy as np\n",
    "\n",
    "BASE = 10\n",
    "\n",
    "PRECISION_INTEGRAL = 8\n",
    "PRECISION_FRACTIONAL = 8\n",
    "Q = 293973345475167247070445277780365744413\n",
    "\n",
    "PRECISION = PRECISION_INTEGRAL + PRECISION_FRACTIONAL\n",
    "\n",
    "assert(Q > BASE**PRECISION)\n",
    "\n",
    "def encode(rational):\n",
    "    upscaled = int(rational * BASE**PRECISION_FRACTIONAL)\n",
    "    field_element = upscaled % Q\n",
    "    return field_element\n",
    "\n",
    "def decode(field_element):\n",
    "    upscaled = field_element if field_element <= Q/2 else field_element - Q\n",
    "    rational = upscaled / BASE**PRECISION_FRACTIONAL\n",
    "    return rational\n",
    "\n",
    "def encrypt(secret):\n",
    "    first  = random.randrange(Q)\n",
    "    second = random.randrange(Q)\n",
    "    third  = (secret - first - second) % Q\n",
    "    return [first, second, third]\n",
    "\n",
    "def decrypt(sharing):\n",
    "    return sum(sharing) % Q\n",
    "\n",
    "def add(a, b):\n",
    "    c = list()\n",
    "    for i in range(len(a)):\n",
    "        c.append((a[i] + b[i]) % Q)\n",
    "    return tuple(c)"
   ]
  },
  {
   "cell_type": "code",
   "execution_count": 0,
   "metadata": {
    "colab": {
     "base_uri": "https://localhost:8080/",
     "height": 69
    },
    "colab_type": "code",
    "executionInfo": {
     "elapsed": 4602,
     "status": "ok",
     "timestamp": 1564161266447,
     "user": {
      "displayName": "Dishin Goyani",
      "photoUrl": "https://lh4.googleusercontent.com/-x75dRy5CXX0/AAAAAAAAAAI/AAAAAAAAAEo/aaebDbbrUDo/s64/photo.jpg",
      "userId": "07847865699654461771"
     },
     "user_tz": -330
    },
    "id": "fTsNxkrNRGPw",
    "outputId": "1070bd26-d4fc-443b-88bb-889d864b356a"
   },
   "outputs": [
    {
     "data": {
      "text/plain": [
       "[58783099858366721685668308921263689881,\n",
       " 192008164583996253091925146547807143892,\n",
       " 43182081032804272292851822311844910640]"
      ]
     },
     "execution_count": 52,
     "metadata": {
      "tags": []
     },
     "output_type": "execute_result"
    }
   ],
   "source": [
    "x = encrypt(encode(5.5))\n",
    "x"
   ]
  },
  {
   "cell_type": "code",
   "execution_count": 0,
   "metadata": {
    "colab": {
     "base_uri": "https://localhost:8080/",
     "height": 69
    },
    "colab_type": "code",
    "executionInfo": {
     "elapsed": 4540,
     "status": "ok",
     "timestamp": 1564161266456,
     "user": {
      "displayName": "Dishin Goyani",
      "photoUrl": "https://lh4.googleusercontent.com/-x75dRy5CXX0/AAAAAAAAAAI/AAAAAAAAAEo/aaebDbbrUDo/s64/photo.jpg",
      "userId": "07847865699654461771"
     },
     "user_tz": -330
    },
    "id": "IDjTHj3SRGQG",
    "outputId": "c6d16a3f-c44e-4c75-8729-e9f701b55362"
   },
   "outputs": [
    {
     "data": {
      "text/plain": [
       "[268158955783880865753951359585838906285,\n",
       " 124858285930651164494151441112566089917,\n",
       " 194929449235802463892787754862556492623]"
      ]
     },
     "execution_count": 53,
     "metadata": {
      "tags": []
     },
     "output_type": "execute_result"
    }
   ],
   "source": [
    "y = encrypt(encode(2.3))\n",
    "y"
   ]
  },
  {
   "cell_type": "code",
   "execution_count": 0,
   "metadata": {
    "colab": {
     "base_uri": "https://localhost:8080/",
     "height": 69
    },
    "colab_type": "code",
    "executionInfo": {
     "elapsed": 4496,
     "status": "ok",
     "timestamp": 1564161266462,
     "user": {
      "displayName": "Dishin Goyani",
      "photoUrl": "https://lh4.googleusercontent.com/-x75dRy5CXX0/AAAAAAAAAAI/AAAAAAAAAEo/aaebDbbrUDo/s64/photo.jpg",
      "userId": "07847865699654461771"
     },
     "user_tz": -330
    },
    "id": "eF9p-mBYRGQY",
    "outputId": "d938af6f-bb79-475c-ee12-e5c453c10447"
   },
   "outputs": [
    {
     "data": {
      "text/plain": [
       "(32968710167080340369174390726736851753,\n",
       " 22893105039480170515631309880007489396,\n",
       " 238111530268606736185639577174401403263)"
      ]
     },
     "execution_count": 54,
     "metadata": {
      "tags": []
     },
     "output_type": "execute_result"
    }
   ],
   "source": [
    "z = add(x,y)\n",
    "z"
   ]
  },
  {
   "cell_type": "code",
   "execution_count": 0,
   "metadata": {
    "colab": {
     "base_uri": "https://localhost:8080/",
     "height": 34
    },
    "colab_type": "code",
    "executionInfo": {
     "elapsed": 4456,
     "status": "ok",
     "timestamp": 1564161266470,
     "user": {
      "displayName": "Dishin Goyani",
      "photoUrl": "https://lh4.googleusercontent.com/-x75dRy5CXX0/AAAAAAAAAAI/AAAAAAAAAEo/aaebDbbrUDo/s64/photo.jpg",
      "userId": "07847865699654461771"
     },
     "user_tz": -330
    },
    "id": "1r9UXDRwRGQs",
    "outputId": "13b34d52-d939-4a2b-ab91-ed55f392276d"
   },
   "outputs": [
    {
     "data": {
      "text/plain": [
       "7.79999999"
      ]
     },
     "execution_count": 55,
     "metadata": {
      "tags": []
     },
     "output_type": "execute_result"
    }
   ],
   "source": [
    "decode(decrypt(z))"
   ]
  },
  {
   "cell_type": "markdown",
   "metadata": {
    "colab_type": "text",
    "id": "T-wQd4HpRGQ8"
   },
   "source": [
    "# Lesson: Encrypted Subtraction and Public/Scalar Multiplication"
   ]
  },
  {
   "cell_type": "code",
   "execution_count": 0,
   "metadata": {
    "colab": {},
    "colab_type": "code",
    "id": "PK2k1z4jRGRP"
   },
   "outputs": [],
   "source": [
    "field = 23740629843760239486723"
   ]
  },
  {
   "cell_type": "code",
   "execution_count": 0,
   "metadata": {
    "colab": {},
    "colab_type": "code",
    "id": "kc58SoHlRGRb"
   },
   "outputs": [],
   "source": [
    "x = 5\n",
    "\n",
    "bob_x_share = 2372385723 # random number\n",
    "alices_x_share = field - bob_x_share + x"
   ]
  },
  {
   "cell_type": "code",
   "execution_count": 0,
   "metadata": {
    "colab": {
     "base_uri": "https://localhost:8080/",
     "height": 34
    },
    "colab_type": "code",
    "executionInfo": {
     "elapsed": 4428,
     "status": "ok",
     "timestamp": 1564161266500,
     "user": {
      "displayName": "Dishin Goyani",
      "photoUrl": "https://lh4.googleusercontent.com/-x75dRy5CXX0/AAAAAAAAAAI/AAAAAAAAAEo/aaebDbbrUDo/s64/photo.jpg",
      "userId": "07847865699654461771"
     },
     "user_tz": -330
    },
    "id": "c55tnQsRRGRp",
    "outputId": "b24a0c9a-57a5-43e3-cbd5-a90094da1bc8"
   },
   "outputs": [
    {
     "data": {
      "text/plain": [
       "5"
      ]
     },
     "execution_count": 58,
     "metadata": {
      "tags": []
     },
     "output_type": "execute_result"
    }
   ],
   "source": [
    "(bob_x_share + alices_x_share) % field"
   ]
  },
  {
   "cell_type": "code",
   "execution_count": 0,
   "metadata": {
    "colab": {},
    "colab_type": "code",
    "id": "SSC_JsXaRGR4"
   },
   "outputs": [],
   "source": [
    "field = 10\n",
    "\n",
    "x = 5\n",
    "\n",
    "bob_x_share = 8\n",
    "alice_x_share = field - bob_x_share + x\n",
    "\n",
    "y = 1\n",
    "\n",
    "bob_y_share = 9\n",
    "alice_y_share = field - bob_y_share + y"
   ]
  },
  {
   "cell_type": "code",
   "execution_count": 0,
   "metadata": {
    "colab": {
     "base_uri": "https://localhost:8080/",
     "height": 34
    },
    "colab_type": "code",
    "executionInfo": {
     "elapsed": 4392,
     "status": "ok",
     "timestamp": 1564161266515,
     "user": {
      "displayName": "Dishin Goyani",
      "photoUrl": "https://lh4.googleusercontent.com/-x75dRy5CXX0/AAAAAAAAAAI/AAAAAAAAAEo/aaebDbbrUDo/s64/photo.jpg",
      "userId": "07847865699654461771"
     },
     "user_tz": -330
    },
    "id": "_ER8fr5RRGSC",
    "outputId": "3cb8ef2d-d32a-49f8-e83b-8e72f26c5752"
   },
   "outputs": [
    {
     "data": {
      "text/plain": [
       "4"
      ]
     },
     "execution_count": 60,
     "metadata": {
      "tags": []
     },
     "output_type": "execute_result"
    }
   ],
   "source": [
    "((bob_x_share + alice_x_share) - (bob_y_share + alice_y_share)) % field"
   ]
  },
  {
   "cell_type": "code",
   "execution_count": 0,
   "metadata": {
    "colab": {
     "base_uri": "https://localhost:8080/",
     "height": 34
    },
    "colab_type": "code",
    "executionInfo": {
     "elapsed": 4351,
     "status": "ok",
     "timestamp": 1564161266519,
     "user": {
      "displayName": "Dishin Goyani",
      "photoUrl": "https://lh4.googleusercontent.com/-x75dRy5CXX0/AAAAAAAAAAI/AAAAAAAAAEo/aaebDbbrUDo/s64/photo.jpg",
      "userId": "07847865699654461771"
     },
     "user_tz": -330
    },
    "id": "vCTtsaxgRGSS",
    "outputId": "ed759cbb-6f6b-46f4-b961-d71941a4a779"
   },
   "outputs": [
    {
     "data": {
      "text/plain": [
       "4"
      ]
     },
     "execution_count": 61,
     "metadata": {
      "tags": []
     },
     "output_type": "execute_result"
    }
   ],
   "source": [
    "((bob_x_share - bob_y_share) + (alice_x_share - alice_y_share)) % field"
   ]
  },
  {
   "cell_type": "code",
   "execution_count": 0,
   "metadata": {
    "colab": {
     "base_uri": "https://localhost:8080/",
     "height": 34
    },
    "colab_type": "code",
    "executionInfo": {
     "elapsed": 4312,
     "status": "ok",
     "timestamp": 1564161266525,
     "user": {
      "displayName": "Dishin Goyani",
      "photoUrl": "https://lh4.googleusercontent.com/-x75dRy5CXX0/AAAAAAAAAAI/AAAAAAAAAEo/aaebDbbrUDo/s64/photo.jpg",
      "userId": "07847865699654461771"
     },
     "user_tz": -330
    },
    "id": "Ob0jMSveRGSf",
    "outputId": "0014e817-c46f-4858-c0dc-9a00119e84e3"
   },
   "outputs": [
    {
     "data": {
      "text/plain": [
       "26"
      ]
     },
     "execution_count": 62,
     "metadata": {
      "tags": []
     },
     "output_type": "execute_result"
    }
   ],
   "source": [
    "bob_x_share + alice_x_share + bob_y_share + alice_y_share"
   ]
  },
  {
   "cell_type": "code",
   "execution_count": 0,
   "metadata": {
    "colab": {},
    "colab_type": "code",
    "id": "45-yhkEJRGSq"
   },
   "outputs": [],
   "source": [
    "bob_z_share = (bob_x_share - bob_y_share)\n",
    "alice_z_share = (alice_x_share - alice_y_share)"
   ]
  },
  {
   "cell_type": "code",
   "execution_count": 0,
   "metadata": {
    "colab": {
     "base_uri": "https://localhost:8080/",
     "height": 34
    },
    "colab_type": "code",
    "executionInfo": {
     "elapsed": 4280,
     "status": "ok",
     "timestamp": 1564161266538,
     "user": {
      "displayName": "Dishin Goyani",
      "photoUrl": "https://lh4.googleusercontent.com/-x75dRy5CXX0/AAAAAAAAAAI/AAAAAAAAAEo/aaebDbbrUDo/s64/photo.jpg",
      "userId": "07847865699654461771"
     },
     "user_tz": -330
    },
    "id": "r0OkpWgXRGS2",
    "outputId": "d5e0f199-4927-4a33-97f4-8f19731f6ee5"
   },
   "outputs": [
    {
     "data": {
      "text/plain": [
       "4"
      ]
     },
     "execution_count": 64,
     "metadata": {
      "tags": []
     },
     "output_type": "execute_result"
    }
   ],
   "source": [
    "(bob_z_share + alice_z_share) % field"
   ]
  },
  {
   "cell_type": "code",
   "execution_count": 0,
   "metadata": {
    "colab": {},
    "colab_type": "code",
    "id": "xAkE2ZdHRGTA"
   },
   "outputs": [],
   "source": [
    "def sub(a, b):\n",
    "    c = list()\n",
    "    for i in range(len(a)):\n",
    "        c.append((a[i] - b[i]) % Q)\n",
    "    return tuple(c)"
   ]
  },
  {
   "cell_type": "code",
   "execution_count": 0,
   "metadata": {
    "colab": {},
    "colab_type": "code",
    "id": "raurT0u3RGTI"
   },
   "outputs": [],
   "source": [
    "field = 10\n",
    "\n",
    "x = 5\n",
    "\n",
    "bob_x_share = 8\n",
    "alice_x_share = field - bob_x_share + x\n",
    "\n",
    "y = 1\n",
    "\n",
    "bob_y_share = 9\n",
    "alice_y_share = field - bob_y_share + y"
   ]
  },
  {
   "cell_type": "code",
   "execution_count": 0,
   "metadata": {
    "colab": {
     "base_uri": "https://localhost:8080/",
     "height": 34
    },
    "colab_type": "code",
    "executionInfo": {
     "elapsed": 4250,
     "status": "ok",
     "timestamp": 1564161266564,
     "user": {
      "displayName": "Dishin Goyani",
      "photoUrl": "https://lh4.googleusercontent.com/-x75dRy5CXX0/AAAAAAAAAAI/AAAAAAAAAEo/aaebDbbrUDo/s64/photo.jpg",
      "userId": "07847865699654461771"
     },
     "user_tz": -330
    },
    "id": "Qe6wDz9URGTQ",
    "outputId": "7f3d0b12-7b66-42a2-c07c-604499556482"
   },
   "outputs": [
    {
     "data": {
      "text/plain": [
       "15"
      ]
     },
     "execution_count": 67,
     "metadata": {
      "tags": []
     },
     "output_type": "execute_result"
    }
   ],
   "source": [
    "bob_x_share + alice_x_share"
   ]
  },
  {
   "cell_type": "code",
   "execution_count": 0,
   "metadata": {
    "colab": {
     "base_uri": "https://localhost:8080/",
     "height": 34
    },
    "colab_type": "code",
    "executionInfo": {
     "elapsed": 4207,
     "status": "ok",
     "timestamp": 1564161266569,
     "user": {
      "displayName": "Dishin Goyani",
      "photoUrl": "https://lh4.googleusercontent.com/-x75dRy5CXX0/AAAAAAAAAAI/AAAAAAAAAEo/aaebDbbrUDo/s64/photo.jpg",
      "userId": "07847865699654461771"
     },
     "user_tz": -330
    },
    "id": "jgd8QFQsRGTf",
    "outputId": "afeed1ff-5078-4c61-a427-e9de414a3b71"
   },
   "outputs": [
    {
     "data": {
      "text/plain": [
       "11"
      ]
     },
     "execution_count": 68,
     "metadata": {
      "tags": []
     },
     "output_type": "execute_result"
    }
   ],
   "source": [
    "bob_y_share + alice_y_share"
   ]
  },
  {
   "cell_type": "code",
   "execution_count": 0,
   "metadata": {
    "colab": {
     "base_uri": "https://localhost:8080/",
     "height": 34
    },
    "colab_type": "code",
    "executionInfo": {
     "elapsed": 4171,
     "status": "ok",
     "timestamp": 1564161266574,
     "user": {
      "displayName": "Dishin Goyani",
      "photoUrl": "https://lh4.googleusercontent.com/-x75dRy5CXX0/AAAAAAAAAAI/AAAAAAAAAEo/aaebDbbrUDo/s64/photo.jpg",
      "userId": "07847865699654461771"
     },
     "user_tz": -330
    },
    "id": "zNbyD80HRGTw",
    "outputId": "4d11f2ac-6941-43f3-f740-6b11c89a7e77"
   },
   "outputs": [
    {
     "data": {
      "text/plain": [
       "3"
      ]
     },
     "execution_count": 69,
     "metadata": {
      "tags": []
     },
     "output_type": "execute_result"
    }
   ],
   "source": [
    "((bob_y_share * 3) + (alice_y_share * 3)) % field"
   ]
  },
  {
   "cell_type": "code",
   "execution_count": 0,
   "metadata": {
    "colab": {},
    "colab_type": "code",
    "id": "Cg-JmyJLRGUA"
   },
   "outputs": [],
   "source": [
    "def imul(a, scalar):\n",
    "    \n",
    "    # logic here which can multiply by a public scalar\n",
    "    \n",
    "    c = list()\n",
    "    \n",
    "    for i in range(len(a)):\n",
    "        c.append((a[i] * scalar) % Q)\n",
    "        \n",
    "    return tuple(c)"
   ]
  },
  {
   "cell_type": "code",
   "execution_count": 0,
   "metadata": {
    "colab": {
     "base_uri": "https://localhost:8080/",
     "height": 69
    },
    "colab_type": "code",
    "executionInfo": {
     "elapsed": 4142,
     "status": "ok",
     "timestamp": 1564161266594,
     "user": {
      "displayName": "Dishin Goyani",
      "photoUrl": "https://lh4.googleusercontent.com/-x75dRy5CXX0/AAAAAAAAAAI/AAAAAAAAAEo/aaebDbbrUDo/s64/photo.jpg",
      "userId": "07847865699654461771"
     },
     "user_tz": -330
    },
    "id": "i9n2sc9mRGUL",
    "outputId": "5bb42ada-345a-431a-8d60-91f7443665b2"
   },
   "outputs": [
    {
     "data": {
      "text/plain": [
       "[242034884016359953980383331990732470321,\n",
       " 235649927039650326824613430138335805994,\n",
       " 110261879894324213335893793432213212511]"
      ]
     },
     "execution_count": 71,
     "metadata": {
      "tags": []
     },
     "output_type": "execute_result"
    }
   ],
   "source": [
    "x = encrypt(encode(5.5))\n",
    "x"
   ]
  },
  {
   "cell_type": "code",
   "execution_count": 0,
   "metadata": {
    "colab": {},
    "colab_type": "code",
    "id": "b-Gjc5mhRGUW"
   },
   "outputs": [],
   "source": [
    "z = imul(x, 3)"
   ]
  },
  {
   "cell_type": "code",
   "execution_count": 0,
   "metadata": {
    "colab": {
     "base_uri": "https://localhost:8080/",
     "height": 34
    },
    "colab_type": "code",
    "executionInfo": {
     "elapsed": 4110,
     "status": "ok",
     "timestamp": 1564161266608,
     "user": {
      "displayName": "Dishin Goyani",
      "photoUrl": "https://lh4.googleusercontent.com/-x75dRy5CXX0/AAAAAAAAAAI/AAAAAAAAAEo/aaebDbbrUDo/s64/photo.jpg",
      "userId": "07847865699654461771"
     },
     "user_tz": -330
    },
    "id": "xcT5TUAGRGUc",
    "outputId": "026e13ab-8ee6-4983-8338-27e2e361a90c"
   },
   "outputs": [
    {
     "data": {
      "text/plain": [
       "16.5"
      ]
     },
     "execution_count": 73,
     "metadata": {
      "tags": []
     },
     "output_type": "execute_result"
    }
   ],
   "source": [
    "decode(decrypt(z))"
   ]
  },
  {
   "cell_type": "markdown",
   "metadata": {
    "colab_type": "text",
    "id": "NlsvPPQtRGUl"
   },
   "source": [
    "# Lesson: Encrypted Computation in PySyft"
   ]
  },
  {
   "cell_type": "code",
   "execution_count": 0,
   "metadata": {
    "colab": {},
    "colab_type": "code",
    "id": "TQJvsA3Txmjn"
   },
   "outputs": [],
   "source": [
    "# pip install syft"
   ]
  },
  {
   "cell_type": "code",
   "execution_count": 0,
   "metadata": {
    "colab": {
     "base_uri": "https://localhost:8080/",
     "height": 34
    },
    "colab_type": "code",
    "executionInfo": {
     "elapsed": 4047,
     "status": "ok",
     "timestamp": 1564161266629,
     "user": {
      "displayName": "Dishin Goyani",
      "photoUrl": "https://lh4.googleusercontent.com/-x75dRy5CXX0/AAAAAAAAAAI/AAAAAAAAAEo/aaebDbbrUDo/s64/photo.jpg",
      "userId": "07847865699654461771"
     },
     "user_tz": -330
    },
    "id": "E4_bQZ--RGUn",
    "outputId": "2e9f722e-c9ad-402e-95e9-4792a826bb13"
   },
   "outputs": [
    {
     "name": "stderr",
     "output_type": "stream",
     "text": [
      "W0726 17:14:24.492445 139942056519552 hook.py:98] Torch was already hooked... skipping hooking process\n"
     ]
    }
   ],
   "source": [
    "import syft as sy\n",
    "import torch as th\n",
    "hook = sy.TorchHook(th)\n",
    "from torch import nn, optim"
   ]
  },
  {
   "cell_type": "code",
   "execution_count": 0,
   "metadata": {
    "colab": {
     "base_uri": "https://localhost:8080/",
     "height": 89
    },
    "colab_type": "code",
    "executionInfo": {
     "elapsed": 4013,
     "status": "ok",
     "timestamp": 1564161266634,
     "user": {
      "displayName": "Dishin Goyani",
      "photoUrl": "https://lh4.googleusercontent.com/-x75dRy5CXX0/AAAAAAAAAAI/AAAAAAAAAEo/aaebDbbrUDo/s64/photo.jpg",
      "userId": "07847865699654461771"
     },
     "user_tz": -330
    },
    "id": "go45ceb3RGUx",
    "outputId": "571d8f8e-5ebd-49d4-e54e-0c97a3f8ea18"
   },
   "outputs": [
    {
     "name": "stderr",
     "output_type": "stream",
     "text": [
      "W0726 17:14:24.508656 139942056519552 base.py:628] Worker me already exists. Replacing old worker which could cause                     unexpected behavior\n",
      "W0726 17:14:24.511101 139942056519552 base.py:628] Worker me already exists. Replacing old worker which could cause                     unexpected behavior\n",
      "W0726 17:14:24.513001 139942056519552 base.py:628] Worker me already exists. Replacing old worker which could cause                     unexpected behavior\n"
     ]
    }
   ],
   "source": [
    "bob = sy.VirtualWorker(hook, id=\"bob\").add_worker(sy.local_worker)\n",
    "alice = sy.VirtualWorker(hook, id=\"alice\").add_worker(sy.local_worker)\n",
    "secure_worker = sy.VirtualWorker(hook, id=\"secure_worker\").add_worker(sy.local_worker)"
   ]
  },
  {
   "cell_type": "code",
   "execution_count": 0,
   "metadata": {
    "colab": {},
    "colab_type": "code",
    "id": "2MTFTrIDRGU4"
   },
   "outputs": [],
   "source": [
    "x = th.tensor([1,2,3,4])\n",
    "y = th.tensor([2,-1,1,0])"
   ]
  },
  {
   "cell_type": "code",
   "execution_count": 0,
   "metadata": {
    "colab": {},
    "colab_type": "code",
    "id": "iX_vmEG-RGVE"
   },
   "outputs": [],
   "source": [
    "x = x.share(bob, alice, crypto_provider=secure_worker)"
   ]
  },
  {
   "cell_type": "code",
   "execution_count": 0,
   "metadata": {
    "colab": {},
    "colab_type": "code",
    "id": "iSFn0-MGRGVL"
   },
   "outputs": [],
   "source": [
    "y = y.share(bob, alice, crypto_provider=secure_worker)"
   ]
  },
  {
   "cell_type": "code",
   "execution_count": 0,
   "metadata": {
    "colab": {
     "base_uri": "https://localhost:8080/",
     "height": 34
    },
    "colab_type": "code",
    "executionInfo": {
     "elapsed": 4002,
     "status": "ok",
     "timestamp": 1564161266670,
     "user": {
      "displayName": "Dishin Goyani",
      "photoUrl": "https://lh4.googleusercontent.com/-x75dRy5CXX0/AAAAAAAAAAI/AAAAAAAAAEo/aaebDbbrUDo/s64/photo.jpg",
      "userId": "07847865699654461771"
     },
     "user_tz": -330
    },
    "id": "yVyhCFh6RGVQ",
    "outputId": "0310d0a0-f9f0-4a99-f889-be93f7823ff4"
   },
   "outputs": [
    {
     "data": {
      "text/plain": [
       "tensor([3, 1, 4, 4])"
      ]
     },
     "execution_count": 80,
     "metadata": {
      "tags": []
     },
     "output_type": "execute_result"
    }
   ],
   "source": [
    "z = x + y\n",
    "z.get()"
   ]
  },
  {
   "cell_type": "code",
   "execution_count": 0,
   "metadata": {
    "colab": {
     "base_uri": "https://localhost:8080/",
     "height": 34
    },
    "colab_type": "code",
    "executionInfo": {
     "elapsed": 3965,
     "status": "ok",
     "timestamp": 1564161266674,
     "user": {
      "displayName": "Dishin Goyani",
      "photoUrl": "https://lh4.googleusercontent.com/-x75dRy5CXX0/AAAAAAAAAAI/AAAAAAAAAEo/aaebDbbrUDo/s64/photo.jpg",
      "userId": "07847865699654461771"
     },
     "user_tz": -330
    },
    "id": "PvOExK5xRGVX",
    "outputId": "f2c9137e-368a-4b00-e156-310653106f8c"
   },
   "outputs": [
    {
     "data": {
      "text/plain": [
       "tensor([-1,  3,  2,  4])"
      ]
     },
     "execution_count": 81,
     "metadata": {
      "tags": []
     },
     "output_type": "execute_result"
    }
   ],
   "source": [
    "z = x - y\n",
    "z.get()"
   ]
  },
  {
   "cell_type": "code",
   "execution_count": 0,
   "metadata": {
    "colab": {
     "base_uri": "https://localhost:8080/",
     "height": 34
    },
    "colab_type": "code",
    "executionInfo": {
     "elapsed": 3923,
     "status": "ok",
     "timestamp": 1564161266676,
     "user": {
      "displayName": "Dishin Goyani",
      "photoUrl": "https://lh4.googleusercontent.com/-x75dRy5CXX0/AAAAAAAAAAI/AAAAAAAAAEo/aaebDbbrUDo/s64/photo.jpg",
      "userId": "07847865699654461771"
     },
     "user_tz": -330
    },
    "id": "XbMqoz-jRGVh",
    "outputId": "db98848d-edbc-45e1-80c5-04034131a98d"
   },
   "outputs": [
    {
     "data": {
      "text/plain": [
       "tensor([ 2, -2,  3,  0])"
      ]
     },
     "execution_count": 82,
     "metadata": {
      "tags": []
     },
     "output_type": "execute_result"
    }
   ],
   "source": [
    "z = x * y\n",
    "z.get()"
   ]
  },
  {
   "cell_type": "code",
   "execution_count": 0,
   "metadata": {
    "colab": {
     "base_uri": "https://localhost:8080/",
     "height": 34
    },
    "colab_type": "code",
    "executionInfo": {
     "elapsed": 3885,
     "status": "ok",
     "timestamp": 1564161266682,
     "user": {
      "displayName": "Dishin Goyani",
      "photoUrl": "https://lh4.googleusercontent.com/-x75dRy5CXX0/AAAAAAAAAAI/AAAAAAAAAEo/aaebDbbrUDo/s64/photo.jpg",
      "userId": "07847865699654461771"
     },
     "user_tz": -330
    },
    "id": "XzhDRGdHRGVp",
    "outputId": "e54387f2-e34a-46f9-9c71-57e9f9264147"
   },
   "outputs": [
    {
     "data": {
      "text/plain": [
       "tensor([0, 1, 1, 1])"
      ]
     },
     "execution_count": 83,
     "metadata": {
      "tags": []
     },
     "output_type": "execute_result"
    }
   ],
   "source": [
    "z = x > y\n",
    "z.get()"
   ]
  },
  {
   "cell_type": "code",
   "execution_count": 0,
   "metadata": {
    "colab": {
     "base_uri": "https://localhost:8080/",
     "height": 34
    },
    "colab_type": "code",
    "executionInfo": {
     "elapsed": 3850,
     "status": "ok",
     "timestamp": 1564161266688,
     "user": {
      "displayName": "Dishin Goyani",
      "photoUrl": "https://lh4.googleusercontent.com/-x75dRy5CXX0/AAAAAAAAAAI/AAAAAAAAAEo/aaebDbbrUDo/s64/photo.jpg",
      "userId": "07847865699654461771"
     },
     "user_tz": -330
    },
    "id": "Z6Q6Cgd2RGVw",
    "outputId": "4db31d18-b3cc-4ab5-a851-b0cb4b9336b6"
   },
   "outputs": [
    {
     "data": {
      "text/plain": [
       "tensor([1, 0, 0, 0])"
      ]
     },
     "execution_count": 84,
     "metadata": {
      "tags": []
     },
     "output_type": "execute_result"
    }
   ],
   "source": [
    "z = x < y\n",
    "z.get()"
   ]
  },
  {
   "cell_type": "code",
   "execution_count": 0,
   "metadata": {
    "colab": {
     "base_uri": "https://localhost:8080/",
     "height": 34
    },
    "colab_type": "code",
    "executionInfo": {
     "elapsed": 3815,
     "status": "ok",
     "timestamp": 1564161266693,
     "user": {
      "displayName": "Dishin Goyani",
      "photoUrl": "https://lh4.googleusercontent.com/-x75dRy5CXX0/AAAAAAAAAAI/AAAAAAAAAEo/aaebDbbrUDo/s64/photo.jpg",
      "userId": "07847865699654461771"
     },
     "user_tz": -330
    },
    "id": "KEY9SgPdRGV9",
    "outputId": "a8e97037-ed9c-45e2-f163-429de7949ea4"
   },
   "outputs": [
    {
     "data": {
      "text/plain": [
       "tensor([0, 0, 0, 0])"
      ]
     },
     "execution_count": 85,
     "metadata": {
      "tags": []
     },
     "output_type": "execute_result"
    }
   ],
   "source": [
    "z = x == y\n",
    "z.get()"
   ]
  },
  {
   "cell_type": "code",
   "execution_count": 0,
   "metadata": {
    "colab": {},
    "colab_type": "code",
    "id": "JiKuQBvLRGWF"
   },
   "outputs": [],
   "source": []
  },
  {
   "cell_type": "code",
   "execution_count": 0,
   "metadata": {
    "colab": {},
    "colab_type": "code",
    "id": "j1r5pGKYRGWL"
   },
   "outputs": [],
   "source": [
    "x = th.tensor([1,2,3,4])\n",
    "y = th.tensor([2,-1,1,0])\n",
    "\n",
    "x = x.fix_precision().share(bob, alice, crypto_provider=secure_worker)\n",
    "y = y.fix_precision().share(bob, alice, crypto_provider=secure_worker)"
   ]
  },
  {
   "cell_type": "code",
   "execution_count": 0,
   "metadata": {
    "colab": {
     "base_uri": "https://localhost:8080/",
     "height": 34
    },
    "colab_type": "code",
    "executionInfo": {
     "elapsed": 3796,
     "status": "ok",
     "timestamp": 1564161266721,
     "user": {
      "displayName": "Dishin Goyani",
      "photoUrl": "https://lh4.googleusercontent.com/-x75dRy5CXX0/AAAAAAAAAAI/AAAAAAAAAEo/aaebDbbrUDo/s64/photo.jpg",
      "userId": "07847865699654461771"
     },
     "user_tz": -330
    },
    "id": "SuxwYvRGRGWP",
    "outputId": "27226fd0-3791-4742-db3e-e94d707a6da2"
   },
   "outputs": [
    {
     "data": {
      "text/plain": [
       "tensor([3., 1., 4., 4.])"
      ]
     },
     "execution_count": 87,
     "metadata": {
      "tags": []
     },
     "output_type": "execute_result"
    }
   ],
   "source": [
    "z = x + y\n",
    "z.get().float_precision()"
   ]
  },
  {
   "cell_type": "code",
   "execution_count": 0,
   "metadata": {
    "colab": {
     "base_uri": "https://localhost:8080/",
     "height": 34
    },
    "colab_type": "code",
    "executionInfo": {
     "elapsed": 3762,
     "status": "ok",
     "timestamp": 1564161266726,
     "user": {
      "displayName": "Dishin Goyani",
      "photoUrl": "https://lh4.googleusercontent.com/-x75dRy5CXX0/AAAAAAAAAAI/AAAAAAAAAEo/aaebDbbrUDo/s64/photo.jpg",
      "userId": "07847865699654461771"
     },
     "user_tz": -330
    },
    "id": "TqS0S_9WRGWc",
    "outputId": "e5c430e3-fa48-41d8-b004-27cd23a4ce6c"
   },
   "outputs": [
    {
     "data": {
      "text/plain": [
       "tensor([-1.,  3.,  2.,  4.])"
      ]
     },
     "execution_count": 88,
     "metadata": {
      "tags": []
     },
     "output_type": "execute_result"
    }
   ],
   "source": [
    "z = x - y\n",
    "z.get().float_precision()"
   ]
  },
  {
   "cell_type": "code",
   "execution_count": 0,
   "metadata": {
    "colab": {
     "base_uri": "https://localhost:8080/",
     "height": 34
    },
    "colab_type": "code",
    "executionInfo": {
     "elapsed": 3729,
     "status": "ok",
     "timestamp": 1564161266732,
     "user": {
      "displayName": "Dishin Goyani",
      "photoUrl": "https://lh4.googleusercontent.com/-x75dRy5CXX0/AAAAAAAAAAI/AAAAAAAAAEo/aaebDbbrUDo/s64/photo.jpg",
      "userId": "07847865699654461771"
     },
     "user_tz": -330
    },
    "id": "HDNeL1N6RGWj",
    "outputId": "2c0ee132-436f-46ba-9658-8e5244206011"
   },
   "outputs": [
    {
     "data": {
      "text/plain": [
       "tensor([ 2., -2.,  3.,  0.])"
      ]
     },
     "execution_count": 89,
     "metadata": {
      "tags": []
     },
     "output_type": "execute_result"
    }
   ],
   "source": [
    "z = x * y\n",
    "z.get().float_precision()"
   ]
  },
  {
   "cell_type": "code",
   "execution_count": 0,
   "metadata": {
    "colab": {
     "base_uri": "https://localhost:8080/",
     "height": 34
    },
    "colab_type": "code",
    "executionInfo": {
     "elapsed": 3689,
     "status": "ok",
     "timestamp": 1564161266737,
     "user": {
      "displayName": "Dishin Goyani",
      "photoUrl": "https://lh4.googleusercontent.com/-x75dRy5CXX0/AAAAAAAAAAI/AAAAAAAAAEo/aaebDbbrUDo/s64/photo.jpg",
      "userId": "07847865699654461771"
     },
     "user_tz": -330
    },
    "id": "tpgXI-YjRGWr",
    "outputId": "104f35d5-5719-4871-fb40-a6d8f25f1f80"
   },
   "outputs": [
    {
     "data": {
      "text/plain": [
       "tensor([0., 1., 1., 1.])"
      ]
     },
     "execution_count": 90,
     "metadata": {
      "tags": []
     },
     "output_type": "execute_result"
    }
   ],
   "source": [
    "z = x > y\n",
    "z.get().float_precision()"
   ]
  },
  {
   "cell_type": "code",
   "execution_count": 0,
   "metadata": {
    "colab": {
     "base_uri": "https://localhost:8080/",
     "height": 34
    },
    "colab_type": "code",
    "executionInfo": {
     "elapsed": 4518,
     "status": "ok",
     "timestamp": 1564161267610,
     "user": {
      "displayName": "Dishin Goyani",
      "photoUrl": "https://lh4.googleusercontent.com/-x75dRy5CXX0/AAAAAAAAAAI/AAAAAAAAAEo/aaebDbbrUDo/s64/photo.jpg",
      "userId": "07847865699654461771"
     },
     "user_tz": -330
    },
    "id": "xmGCb1OMRGW0",
    "outputId": "13d39d6e-a0e4-48ee-b7a9-71d31212a381"
   },
   "outputs": [
    {
     "data": {
      "text/plain": [
       "tensor([1., 0., 0., 0.])"
      ]
     },
     "execution_count": 91,
     "metadata": {
      "tags": []
     },
     "output_type": "execute_result"
    }
   ],
   "source": [
    "z = x < y\n",
    "z.get().float_precision()"
   ]
  },
  {
   "cell_type": "code",
   "execution_count": 0,
   "metadata": {
    "colab": {
     "base_uri": "https://localhost:8080/",
     "height": 34
    },
    "colab_type": "code",
    "executionInfo": {
     "elapsed": 4479,
     "status": "ok",
     "timestamp": 1564161267616,
     "user": {
      "displayName": "Dishin Goyani",
      "photoUrl": "https://lh4.googleusercontent.com/-x75dRy5CXX0/AAAAAAAAAAI/AAAAAAAAAEo/aaebDbbrUDo/s64/photo.jpg",
      "userId": "07847865699654461771"
     },
     "user_tz": -330
    },
    "id": "6jUyGB1NRGW6",
    "outputId": "e436636a-65c4-4baf-ea44-ceb1a994a208"
   },
   "outputs": [
    {
     "data": {
      "text/plain": [
       "tensor([0., 0., 0., 0.])"
      ]
     },
     "execution_count": 92,
     "metadata": {
      "tags": []
     },
     "output_type": "execute_result"
    }
   ],
   "source": [
    "z = x == y\n",
    "z.get().float_precision()"
   ]
  },
  {
   "cell_type": "markdown",
   "metadata": {
    "colab_type": "text",
    "id": "gKfqzqMLRGXA"
   },
   "source": [
    "# Project: Build an Encrypted Database"
   ]
  },
  {
   "cell_type": "code",
   "execution_count": 0,
   "metadata": {
    "colab": {},
    "colab_type": "code",
    "id": "r-rUrW6DRGXC"
   },
   "outputs": [],
   "source": [
    "# try this project here!\n",
    "import string\n",
    "import torch as th"
   ]
  },
  {
   "cell_type": "code",
   "execution_count": 0,
   "metadata": {
    "colab": {},
    "colab_type": "code",
    "id": "zqGm17Io4ZnM"
   },
   "outputs": [],
   "source": [
    "char2index = {}\n",
    "index2char = {}"
   ]
  },
  {
   "cell_type": "code",
   "execution_count": 0,
   "metadata": {
    "colab": {},
    "colab_type": "code",
    "id": "RKSTmduPRGXG"
   },
   "outputs": [],
   "source": [
    "for index,char in enumerate(\" \" + string.ascii_lowercase + string.digits + string.punctuation):\n",
    "  char2index[char] = index\n",
    "  index2char[index] = char"
   ]
  },
  {
   "cell_type": "code",
   "execution_count": 0,
   "metadata": {
    "colab": {},
    "colab_type": "code",
    "id": "QHPNzHhiRGXM"
   },
   "outputs": [],
   "source": [
    "def string2value(str_input, max_len=8):\n",
    "  str_input = str_input[:max_len].lower()\n",
    "\n",
    "  if len(str_input) < max_len:\n",
    "    str_input = str_input + '.' * (max_len - len(str_input))\n",
    "\n",
    "  value = list()\n",
    "  for char in str_input:\n",
    "    value.append(char2index[char])\n",
    "  \n",
    "  return th.tensor(value).long()\n",
    "\n",
    "def value2string(input_value):\n",
    "  result_str = ''\n",
    "  for val in input_value:\n",
    "    result_str += index2char[int(val)]\n",
    "  result_str = result_str.replace('.',\"\")\n",
    "  return result_str"
   ]
  },
  {
   "cell_type": "code",
   "execution_count": 0,
   "metadata": {
    "colab": {
     "base_uri": "https://localhost:8080/",
     "height": 34
    },
    "colab_type": "code",
    "executionInfo": {
     "elapsed": 4404,
     "status": "ok",
     "timestamp": 1564161267691,
     "user": {
      "displayName": "Dishin Goyani",
      "photoUrl": "https://lh4.googleusercontent.com/-x75dRy5CXX0/AAAAAAAAAAI/AAAAAAAAAEo/aaebDbbrUDo/s64/photo.jpg",
      "userId": "07847865699654461771"
     },
     "user_tz": -330
    },
    "id": "TnyH7HkqRGXS",
    "outputId": "f4832f86-7481-4fb9-e6e6-d127ebcb49fc"
   },
   "outputs": [
    {
     "data": {
      "text/plain": [
       "tensor([ 8,  5, 12, 12, 15, 50, 50, 50])"
      ]
     },
     "execution_count": 97,
     "metadata": {
      "tags": []
     },
     "output_type": "execute_result"
    }
   ],
   "source": [
    "string2value(\"hello\")"
   ]
  },
  {
   "cell_type": "code",
   "execution_count": 0,
   "metadata": {
    "colab": {},
    "colab_type": "code",
    "id": "dxAsvnV5RGXa"
   },
   "outputs": [],
   "source": [
    "def one_hot(index,length):\n",
    "  tensor = th.zeros(length).long()\n",
    "  tensor[index] = 1\n",
    "  return tensor\n",
    "  "
   ]
  },
  {
   "cell_type": "code",
   "execution_count": 0,
   "metadata": {
    "colab": {},
    "colab_type": "code",
    "id": "-k-_qasKRGXf"
   },
   "outputs": [],
   "source": [
    "def string2one_hot_matrix(str_input, max_len=8):\n",
    "  str_input = str_input[:max_len].lower()\n",
    "\n",
    "  if len(str_input) < max_len:\n",
    "    str_input = str_input + '.' * (max_len - len(str_input))\n",
    "\n",
    "  value = list()\n",
    "  for char in str_input:\n",
    "    value.append(one_hot(char2index[char],len(char2index)).unsqueeze(0))\n",
    "\n",
    "  return th.cat(value,0)\n"
   ]
  },
  {
   "cell_type": "code",
   "execution_count": 0,
   "metadata": {
    "colab": {},
    "colab_type": "code",
    "id": "_zxrpPGNLET4"
   },
   "outputs": [],
   "source": [
    "def string_equal(string_a, string_b):\n",
    "  vec = (string_a * string_b).sum(1)\n",
    "  x = vec[0]\n",
    "  for i in range(vec.shape[0]-1):\n",
    "    x = x * vec[i+1]\n",
    "  return x"
   ]
  },
  {
   "cell_type": "code",
   "execution_count": 0,
   "metadata": {
    "colab": {},
    "colab_type": "code",
    "id": "dWaptwA4BFpD"
   },
   "outputs": [],
   "source": [
    "matrix = string2one_hot_matrix(\"hello\")"
   ]
  },
  {
   "cell_type": "code",
   "execution_count": 0,
   "metadata": {
    "colab": {},
    "colab_type": "code",
    "id": "x8YnrvzjAFKx"
   },
   "outputs": [],
   "source": [
    "string_a = string2one_hot_matrix(\"Hello\")\n",
    "string_b = string2one_hot_matrix(\"Hello\")"
   ]
  },
  {
   "cell_type": "code",
   "execution_count": 0,
   "metadata": {
    "colab": {},
    "colab_type": "code",
    "id": "CKXVZnKKJYq9"
   },
   "outputs": [],
   "source": [
    "class EncryptedDB():\n",
    "  def __init__(self, *owners, max_key_length, max_value_length):\n",
    "    \n",
    "    self.keys = list()\n",
    "    self.values = list()\n",
    "    \n",
    "    self.owners = owners\n",
    "    \n",
    "    self.max_key_length = max_key_length\n",
    "    self.max_value_length = max_value_length\n",
    "    \n",
    "  def add_entry(self, key, value):\n",
    "    key = string2one_hot_matrix(key,self.max_key_length)\n",
    "    key = key.share(*self.owners)\n",
    "    self.keys.append(key)\n",
    "    \n",
    "    value = string2value(value,self.max_value_length)\n",
    "    value = value.share(*self.owners)\n",
    "    self.values.append(value)\n",
    "    \n",
    "  def query(self,query_str):\n",
    "    query_matrix = string2one_hot_matrix(query_str)\n",
    "    query_matrix = query_matrix.share(*self.owners)\n",
    "    \n",
    "    match_keys = list()\n",
    "    for key in self.keys:\n",
    "      match_keys.append(string_equal(key,query_matrix))\n",
    "\n",
    "    result = self.values[0] * match_keys[0]\n",
    "    for i in range(len(self.values) - 1 ):\n",
    "      result += self.values[i + 1] * match_keys[i + 1]\n",
    "    result = result.get()\n",
    "    \n",
    "    return value2string(result)\n",
    "\n"
   ]
  },
  {
   "cell_type": "code",
   "execution_count": 0,
   "metadata": {
    "colab": {},
    "colab_type": "code",
    "id": "Vus0nALaE74V"
   },
   "outputs": [],
   "source": [
    "db = EncryptedDB(bob,alice,secure_worker,max_key_length=8,max_value_length=8)"
   ]
  },
  {
   "cell_type": "code",
   "execution_count": 0,
   "metadata": {
    "colab": {},
    "colab_type": "code",
    "id": "4sVJzw3ODRJV"
   },
   "outputs": [],
   "source": [
    "db.add_entry('key1','value1')\n",
    "db.add_entry('key2','value2')\n",
    "db.add_entry('key3','value3')\n",
    "db.add_entry('key4','value4')\n",
    "db.add_entry('key5','value5')"
   ]
  },
  {
   "cell_type": "code",
   "execution_count": 0,
   "metadata": {
    "colab": {
     "base_uri": "https://localhost:8080/",
     "height": 34
    },
    "colab_type": "code",
    "executionInfo": {
     "elapsed": 2061,
     "status": "ok",
     "timestamp": 1564161406954,
     "user": {
      "displayName": "Dishin Goyani",
      "photoUrl": "https://lh4.googleusercontent.com/-x75dRy5CXX0/AAAAAAAAAAI/AAAAAAAAAEo/aaebDbbrUDo/s64/photo.jpg",
      "userId": "07847865699654461771"
     },
     "user_tz": -330
    },
    "id": "L6sFSbsqE8OH",
    "outputId": "4e53d1ea-5df5-410f-c41c-0622ee414dad"
   },
   "outputs": [
    {
     "data": {
      "text/plain": [
       "'value5'"
      ]
     },
     "execution_count": 112,
     "metadata": {
      "tags": []
     },
     "output_type": "execute_result"
    }
   ],
   "source": [
    "query_str = \"key5\"\n",
    "db.query(query_str)"
   ]
  },
  {
   "cell_type": "code",
   "execution_count": 0,
   "metadata": {
    "colab": {
     "base_uri": "https://localhost:8080/",
     "height": 382
    },
    "colab_type": "code",
    "executionInfo": {
     "elapsed": 1031,
     "status": "ok",
     "timestamp": 1564161408734,
     "user": {
      "displayName": "Dishin Goyani",
      "photoUrl": "https://lh4.googleusercontent.com/-x75dRy5CXX0/AAAAAAAAAAI/AAAAAAAAAEo/aaebDbbrUDo/s64/photo.jpg",
      "userId": "07847865699654461771"
     },
     "user_tz": -330
    },
    "id": "N095ee2FKIm1",
    "outputId": "d8ce77e3-d8ab-41e1-87e7-01024a18e30a"
   },
   "outputs": [
    {
     "data": {
      "text/plain": [
       "[(Wrapper)>[AdditiveSharingTensor]\n",
       " \t-> (Wrapper)>[PointerTensor | me:46029003698 -> bob:66256141534]\n",
       " \t-> (Wrapper)>[PointerTensor | me:59144208925 -> alice:29478995270]\n",
       " \t-> (Wrapper)>[PointerTensor | me:33892320620 -> secure_worker:28450775982]\n",
       " \t*crypto provider: me*, (Wrapper)>[AdditiveSharingTensor]\n",
       " \t-> (Wrapper)>[PointerTensor | me:49332750539 -> bob:20213900507]\n",
       " \t-> (Wrapper)>[PointerTensor | me:79958765513 -> alice:54703066843]\n",
       " \t-> (Wrapper)>[PointerTensor | me:739500434 -> secure_worker:40047962341]\n",
       " \t*crypto provider: me*, (Wrapper)>[AdditiveSharingTensor]\n",
       " \t-> (Wrapper)>[PointerTensor | me:34671626999 -> bob:94016123014]\n",
       " \t-> (Wrapper)>[PointerTensor | me:13522200000 -> alice:10840074907]\n",
       " \t-> (Wrapper)>[PointerTensor | me:96918787966 -> secure_worker:42135056651]\n",
       " \t*crypto provider: me*, (Wrapper)>[AdditiveSharingTensor]\n",
       " \t-> (Wrapper)>[PointerTensor | me:57246001234 -> bob:36954326009]\n",
       " \t-> (Wrapper)>[PointerTensor | me:309522354 -> alice:24269528204]\n",
       " \t-> (Wrapper)>[PointerTensor | me:24200668510 -> secure_worker:50581338871]\n",
       " \t*crypto provider: me*, (Wrapper)>[AdditiveSharingTensor]\n",
       " \t-> (Wrapper)>[PointerTensor | me:96578002449 -> bob:5601243159]\n",
       " \t-> (Wrapper)>[PointerTensor | me:82627823262 -> alice:42478681714]\n",
       " \t-> (Wrapper)>[PointerTensor | me:52574907799 -> secure_worker:30667271872]\n",
       " \t*crypto provider: me*]"
      ]
     },
     "execution_count": 113,
     "metadata": {
      "tags": []
     },
     "output_type": "execute_result"
    }
   ],
   "source": [
    "db.values"
   ]
  },
  {
   "cell_type": "code",
   "execution_count": 0,
   "metadata": {
    "colab": {},
    "colab_type": "code",
    "id": "Pwj7Vw6LE8ZN"
   },
   "outputs": [],
   "source": []
  },
  {
   "cell_type": "code",
   "execution_count": 0,
   "metadata": {
    "colab": {},
    "colab_type": "code",
    "id": "a3vBR3v-E8eC"
   },
   "outputs": [],
   "source": []
  },
  {
   "cell_type": "markdown",
   "metadata": {
    "colab_type": "text",
    "id": "iwk-6Yc6RGXk"
   },
   "source": [
    "# Lesson: Encrypted Deep Learning in PyTorch"
   ]
  },
  {
   "cell_type": "markdown",
   "metadata": {
    "colab_type": "text",
    "id": "ECRX9s3eRGXl"
   },
   "source": [
    "### Train a Model"
   ]
  },
  {
   "cell_type": "code",
   "execution_count": 1,
   "metadata": {
    "colab": {
     "base_uri": "https://localhost:8080/",
     "height": 364
    },
    "colab_type": "code",
    "executionInfo": {
     "elapsed": 1095,
     "status": "ok",
     "timestamp": 1564232812607,
     "user": {
      "displayName": "Dishin Goyani",
      "photoUrl": "https://lh4.googleusercontent.com/-x75dRy5CXX0/AAAAAAAAAAI/AAAAAAAAAEo/aaebDbbrUDo/s64/photo.jpg",
      "userId": "07847865699654461771"
     },
     "user_tz": -330
    },
    "id": "rbT5waRQRGXm",
    "outputId": "f0bd65cb-502b-441e-f722-78da3373dbfb"
   },
   "outputs": [
    {
     "name": "stdout",
     "output_type": "stream",
     "text": [
      "tensor(2.9420)\n",
      "tensor(28.7438)\n",
      "tensor(23.5629)\n",
      "tensor(1.2654)\n",
      "tensor(0.9525)\n",
      "tensor(0.9256)\n",
      "tensor(0.9067)\n",
      "tensor(0.8852)\n",
      "tensor(0.8603)\n",
      "tensor(0.8321)\n",
      "tensor(0.8007)\n",
      "tensor(0.7578)\n",
      "tensor(0.6507)\n",
      "tensor(0.5309)\n",
      "tensor(0.4056)\n",
      "tensor(0.2902)\n",
      "tensor(0.1983)\n",
      "tensor(0.1339)\n",
      "tensor(0.0940)\n",
      "tensor(0.0687)\n"
     ]
    }
   ],
   "source": [
    "import torch as th\n",
    "from torch import nn\n",
    "from torch import optim\n",
    "import torch.nn.functional as F\n",
    "\n",
    "# A Toy Dataset\n",
    "data = th.tensor([[0,0],[0,1],[1,0],[1,1.]], requires_grad=True)\n",
    "target = th.tensor([[0],[0],[1],[1.]], requires_grad=True)\n",
    "\n",
    "class Net(nn.Module):\n",
    "    def __init__(self):\n",
    "        super(Net, self).__init__()\n",
    "        self.fc1 = nn.Linear(2, 20)\n",
    "        self.fc2 = nn.Linear(20, 1)\n",
    "\n",
    "    def forward(self, x):\n",
    "        x = self.fc1(x)\n",
    "        x = F.relu(x)\n",
    "        x = self.fc2(x)\n",
    "        return x\n",
    "\n",
    "# A Toy Model\n",
    "model = Net()\n",
    "\n",
    "def train():\n",
    "    # Training Logic\n",
    "    opt = optim.SGD(params=model.parameters(),lr=0.1)\n",
    "    for iter in range(20):\n",
    "\n",
    "        # 1) erase previous gradients (if they exist)\n",
    "        opt.zero_grad()\n",
    "\n",
    "        # 2) make a prediction\n",
    "        pred = model(data)\n",
    "\n",
    "        # 3) calculate how much we missed\n",
    "        loss = ((pred - target)**2).sum()\n",
    "\n",
    "        # 4) figure out which weights caused us to miss\n",
    "        loss.backward()\n",
    "\n",
    "        # 5) change those weights\n",
    "        opt.step()\n",
    "\n",
    "        # 6) print our progress\n",
    "        print(loss.data)\n",
    "        \n",
    "train()"
   ]
  },
  {
   "cell_type": "code",
   "execution_count": 2,
   "metadata": {
    "colab": {
     "base_uri": "https://localhost:8080/",
     "height": 86
    },
    "colab_type": "code",
    "executionInfo": {
     "elapsed": 1068,
     "status": "ok",
     "timestamp": 1564232816004,
     "user": {
      "displayName": "Dishin Goyani",
      "photoUrl": "https://lh4.googleusercontent.com/-x75dRy5CXX0/AAAAAAAAAAI/AAAAAAAAAEo/aaebDbbrUDo/s64/photo.jpg",
      "userId": "07847865699654461771"
     },
     "user_tz": -330
    },
    "id": "LzGWanUGRGXz",
    "outputId": "5aa6398b-628d-4b1b-9d06-6cd95306133c"
   },
   "outputs": [
    {
     "data": {
      "text/plain": [
       "tensor([[0.0052],\n",
       "        [0.1945],\n",
       "        [1.0384],\n",
       "        [0.8883]], grad_fn=<AddmmBackward>)"
      ]
     },
     "execution_count": 2,
     "metadata": {
      "tags": []
     },
     "output_type": "execute_result"
    }
   ],
   "source": [
    "model(data)"
   ]
  },
  {
   "cell_type": "markdown",
   "metadata": {
    "colab_type": "text",
    "id": "TCk6nZ0CRGYA"
   },
   "source": [
    "## Encrypt the Model and Data"
   ]
  },
  {
   "cell_type": "code",
   "execution_count": 3,
   "metadata": {
    "colab": {
     "base_uri": "https://localhost:8080/",
     "height": 106
    },
    "colab_type": "code",
    "executionInfo": {
     "elapsed": 3400,
     "status": "ok",
     "timestamp": 1564232823070,
     "user": {
      "displayName": "Dishin Goyani",
      "photoUrl": "https://lh4.googleusercontent.com/-x75dRy5CXX0/AAAAAAAAAAI/AAAAAAAAAEo/aaebDbbrUDo/s64/photo.jpg",
      "userId": "07847865699654461771"
     },
     "user_tz": -330
    },
    "id": "LUPBVfmjKnSK",
    "outputId": "7414f93d-c6cd-4400-f214-da923de2bc0b"
   },
   "outputs": [
    {
     "name": "stderr",
     "output_type": "stream",
     "text": [
      "WARNING: Logging before flag parsing goes to stderr.\n",
      "W0727 13:07:01.627888 139906829059968 secure_random.py:26] Falling back to insecure randomness since the required custom op could not be found for the installed version of TensorFlow. Fix this by compiling custom ops. Missing file was '/usr/local/lib/python3.6/dist-packages/tf_encrypted/operations/secure_random/secure_random_module_tf_1.14.0.so'\n",
      "W0727 13:07:01.650239 139906829059968 deprecation_wrapper.py:119] From /usr/local/lib/python3.6/dist-packages/tf_encrypted/session.py:26: The name tf.Session is deprecated. Please use tf.compat.v1.Session instead.\n",
      "\n"
     ]
    }
   ],
   "source": [
    "# !pip install syft\n",
    "import syft as sy\n",
    "hook = sy.TorchHook(th)"
   ]
  },
  {
   "cell_type": "code",
   "execution_count": 0,
   "metadata": {
    "colab": {},
    "colab_type": "code",
    "id": "AWJAk1MYLK-2"
   },
   "outputs": [],
   "source": [
    "bob = sy.VirtualWorker(hook,id=\"bob\")\n",
    "alice = sy.VirtualWorker(hook,id=\"alice\")\n",
    "secure_worker = sy.VirtualWorker(hook,id=\"secure_worker\")"
   ]
  },
  {
   "cell_type": "code",
   "execution_count": 0,
   "metadata": {
    "colab": {},
    "colab_type": "code",
    "id": "d2lCLU9hRGYB"
   },
   "outputs": [],
   "source": [
    "encrypted_model = model.fix_precision().share(alice, bob, crypto_provider=secure_worker)"
   ]
  },
  {
   "cell_type": "code",
   "execution_count": 6,
   "metadata": {
    "colab": {
     "base_uri": "https://localhost:8080/",
     "height": 312
    },
    "colab_type": "code",
    "executionInfo": {
     "elapsed": 1048,
     "status": "ok",
     "timestamp": 1564232835077,
     "user": {
      "displayName": "Dishin Goyani",
      "photoUrl": "https://lh4.googleusercontent.com/-x75dRy5CXX0/AAAAAAAAAAI/AAAAAAAAAEo/aaebDbbrUDo/s64/photo.jpg",
      "userId": "07847865699654461771"
     },
     "user_tz": -330
    },
    "id": "1iDLqHeVRGYL",
    "outputId": "b46b0b88-b39a-4df6-c0c8-3f1a43b65265"
   },
   "outputs": [
    {
     "data": {
      "text/plain": [
       "[Parameter containing:\n",
       " Parameter>FixedPrecisionTensor>(Wrapper)>[AdditiveSharingTensor]\n",
       " \t-> (Wrapper)>[PointerTensor | me:97281737290 -> alice:84700623885]\n",
       " \t-> (Wrapper)>[PointerTensor | me:62551344033 -> bob:81805484208]\n",
       " \t*crypto provider: secure_worker*, Parameter containing:\n",
       " Parameter>FixedPrecisionTensor>(Wrapper)>[AdditiveSharingTensor]\n",
       " \t-> (Wrapper)>[PointerTensor | me:62598448262 -> alice:30930260768]\n",
       " \t-> (Wrapper)>[PointerTensor | me:93888728527 -> bob:27260042062]\n",
       " \t*crypto provider: secure_worker*, Parameter containing:\n",
       " Parameter>FixedPrecisionTensor>(Wrapper)>[AdditiveSharingTensor]\n",
       " \t-> (Wrapper)>[PointerTensor | me:18952021592 -> alice:88177925452]\n",
       " \t-> (Wrapper)>[PointerTensor | me:4647676561 -> bob:79635673466]\n",
       " \t*crypto provider: secure_worker*, Parameter containing:\n",
       " Parameter>FixedPrecisionTensor>(Wrapper)>[AdditiveSharingTensor]\n",
       " \t-> (Wrapper)>[PointerTensor | me:87514919692 -> alice:55695613666]\n",
       " \t-> (Wrapper)>[PointerTensor | me:71170257853 -> bob:24983025449]\n",
       " \t*crypto provider: secure_worker*]"
      ]
     },
     "execution_count": 6,
     "metadata": {
      "tags": []
     },
     "output_type": "execute_result"
    }
   ],
   "source": [
    "list(encrypted_model.parameters())"
   ]
  },
  {
   "cell_type": "code",
   "execution_count": 0,
   "metadata": {
    "colab": {},
    "colab_type": "code",
    "id": "UwDSyfPrRGYS"
   },
   "outputs": [],
   "source": [
    "encrypted_data = data.fix_precision().share(alice, bob, crypto_provider=secure_worker)"
   ]
  },
  {
   "cell_type": "code",
   "execution_count": 8,
   "metadata": {
    "colab": {
     "base_uri": "https://localhost:8080/",
     "height": 86
    },
    "colab_type": "code",
    "executionInfo": {
     "elapsed": 1069,
     "status": "ok",
     "timestamp": 1564232879764,
     "user": {
      "displayName": "Dishin Goyani",
      "photoUrl": "https://lh4.googleusercontent.com/-x75dRy5CXX0/AAAAAAAAAAI/AAAAAAAAAEo/aaebDbbrUDo/s64/photo.jpg",
      "userId": "07847865699654461771"
     },
     "user_tz": -330
    },
    "id": "PHXZMA-xRGYW",
    "outputId": "c24e1b76-84b2-419b-b843-f184eab2067a"
   },
   "outputs": [
    {
     "data": {
      "text/plain": [
       "(Wrapper)>FixedPrecisionTensor>(Wrapper)>[AdditiveSharingTensor]\n",
       "\t-> (Wrapper)>[PointerTensor | me:84534694572 -> alice:62965111261]\n",
       "\t-> (Wrapper)>[PointerTensor | me:13854757232 -> bob:86477203264]\n",
       "\t*crypto provider: secure_worker*"
      ]
     },
     "execution_count": 8,
     "metadata": {
      "tags": []
     },
     "output_type": "execute_result"
    }
   ],
   "source": [
    "encrypted_data"
   ]
  },
  {
   "cell_type": "code",
   "execution_count": 0,
   "metadata": {
    "colab": {},
    "colab_type": "code",
    "id": "3LTzcyL1RGYc"
   },
   "outputs": [],
   "source": [
    "encrypted_prediction = encrypted_model(encrypted_data)"
   ]
  },
  {
   "cell_type": "code",
   "execution_count": 10,
   "metadata": {
    "colab": {
     "base_uri": "https://localhost:8080/",
     "height": 86
    },
    "colab_type": "code",
    "executionInfo": {
     "elapsed": 1064,
     "status": "ok",
     "timestamp": 1564232893739,
     "user": {
      "displayName": "Dishin Goyani",
      "photoUrl": "https://lh4.googleusercontent.com/-x75dRy5CXX0/AAAAAAAAAAI/AAAAAAAAAEo/aaebDbbrUDo/s64/photo.jpg",
      "userId": "07847865699654461771"
     },
     "user_tz": -330
    },
    "id": "Vv8ECOYtRGYh",
    "outputId": "31d80d1d-91b6-4049-e960-5ebe35a8a0d8"
   },
   "outputs": [
    {
     "data": {
      "text/plain": [
       "tensor([[0.0050],\n",
       "        [0.1940],\n",
       "        [1.0370],\n",
       "        [0.8870]])"
      ]
     },
     "execution_count": 10,
     "metadata": {
      "tags": []
     },
     "output_type": "execute_result"
    }
   ],
   "source": [
    "encrypted_prediction.get().float_precision()"
   ]
  },
  {
   "cell_type": "markdown",
   "metadata": {
    "colab_type": "text",
    "id": "2H_2c_iDRGYt"
   },
   "source": [
    "# Lesson: Encrypted Deep Learning in Keras\n"
   ]
  },
  {
   "cell_type": "markdown",
   "metadata": {
    "colab_type": "text",
    "id": "fERNt4UyRGY6"
   },
   "source": [
    "## Step 1: Public Training\n",
    "\n",
    "Welcome to this tutorial! In the following notebooks you will learn how to provide private predictions. By private predictions, we mean that the data is constantly encrypted throughout the entire process. At no point is the user sharing raw data, only encrypted (that is, secret shared) data. In order to provide these private predictions, Syft Keras uses a library called [TF Encrypted](https://github.com/tf-encrypted/tf-encrypted) under the hood. TF Encrypted combines cutting-edge cryptographic and machine learning techniques, but you don't have to worry about this and can focus on your machine learning application.\n",
    "\n",
    "You can start serving private predictions with only three steps:\n",
    "- **Step 1**: train your model with normal Keras.\n",
    "- **Step 2**: secure and serve your machine learning model (server).\n",
    "- **Step 3**: query the secured model to receive private predictions (client). \n",
    "\n",
    "Alright, let's go through these three steps so you can deploy impactful machine learning services without sacrificing user privacy or model security.\n",
    "\n",
    "Huge shoutout to the Dropout Labs ([@dropoutlabs](https://twitter.com/dropoutlabs)) and TF Encrypted ([@tf_encrypted](https://twitter.com/tf_encrypted)) teams for their great work which makes this demo possible, especially: Jason Mancuso ([@jvmancuso](https://twitter.com/jvmancuso)), Yann Dupis ([@YannDupis](https://twitter.com/YannDupis)), and Morten Dahl ([@mortendahlcs](https://github.com/mortendahlcs)). \n",
    "\n",
    "_Demo Ref: https://github.com/OpenMined/PySyft/tree/dev/examples/tutorials_"
   ]
  },
  {
   "cell_type": "markdown",
   "metadata": {
    "colab_type": "text",
    "id": "yjXHB4XfRGY7"
   },
   "source": [
    "## Train Your Model in Keras\n",
    "\n",
    "To use privacy-preserving machine learning techniques for your projects you should not have to learn a new machine learning framework. If you have basic [Keras](https://keras.io/) knowledge, you can start using these techniques with Syft Keras. If you have never used Keras before, you can learn a bit more about it through the [Keras documentation](https://keras.io). \n",
    "\n",
    "Before serving private predictions, the first step is to train your model with normal Keras. As an example, we will train a model to classify handwritten digits. To train this model we will use the canonical [MNIST dataset](http://yann.lecun.com/exdb/mnist/).\n",
    "\n",
    "We borrow [this example](https://github.com/keras-team/keras/blob/master/examples/mnist_cnn.py) from the reference Keras repository.  To train your classification model, you just run the cell below."
   ]
  },
  {
   "cell_type": "code",
   "execution_count": 0,
   "metadata": {
    "colab": {
     "base_uri": "https://localhost:8080/",
     "height": 454
    },
    "colab_type": "code",
    "executionInfo": {
     "elapsed": 47428,
     "status": "ok",
     "timestamp": 1564163777643,
     "user": {
      "displayName": "Dishin Goyani",
      "photoUrl": "https://lh4.googleusercontent.com/-x75dRy5CXX0/AAAAAAAAAAI/AAAAAAAAAEo/aaebDbbrUDo/s64/photo.jpg",
      "userId": "07847865699654461771"
     },
     "user_tz": -330
    },
    "id": "lKUjHMfFRGY9",
    "outputId": "6e506484-5ad0-4219-cfb3-7f03878aa61b"
   },
   "outputs": [
    {
     "name": "stdout",
     "output_type": "stream",
     "text": [
      "Downloading data from https://storage.googleapis.com/tensorflow/tf-keras-datasets/mnist.npz\n",
      "11493376/11490434 [==============================] - 0s 0us/step\n"
     ]
    },
    {
     "name": "stderr",
     "output_type": "stream",
     "text": [
      "W0726 17:55:31.516157 139942056519552 deprecation.py:506] From /usr/local/lib/python3.6/dist-packages/tensorflow/python/ops/init_ops.py:1251: calling VarianceScaling.__init__ (from tensorflow.python.ops.init_ops) with dtype is deprecated and will be removed in a future version.\n",
      "Instructions for updating:\n",
      "Call initializer instance with the dtype argument instead of passing it to the constructor\n"
     ]
    },
    {
     "name": "stdout",
     "output_type": "stream",
     "text": [
      "x_train shape: (60000, 28, 28, 1)\n",
      "60000 train samples\n",
      "10000 test samples\n",
      "Train on 60000 samples, validate on 10000 samples\n"
     ]
    },
    {
     "name": "stderr",
     "output_type": "stream",
     "text": [
      "Exception ignored in: <object repr() failed>\n",
      "Traceback (most recent call last):\n",
      "  File \"/usr/local/lib/python3.6/dist-packages/syft/frameworks/torch/pointers/object_pointer.py\", line 219, in __del__\n",
      "    self.owner.send_msg(MSGTYPE.FORCE_OBJ_DEL, self.id_at_location, self.location)\n",
      "  File \"/usr/local/lib/python3.6/dist-packages/syft/workers/base.py\", line 223, in send_msg\n",
      "    bin_response = self._send_msg(bin_message, location)\n",
      "  File \"/usr/local/lib/python3.6/dist-packages/syft/workers/virtual.py\", line 10, in _send_msg\n",
      "    return location._recv_msg(message)\n",
      "AttributeError: 'int' object has no attribute '_recv_msg'\n"
     ]
    },
    {
     "name": "stdout",
     "output_type": "stream",
     "text": [
      "Epoch 1/2\n",
      "60000/60000 [==============================] - 21s 355us/sample - loss: 2.3054 - acc: 0.1006 - val_loss: 2.3036 - val_acc: 0.1155\n",
      "Epoch 2/2\n",
      "60000/60000 [==============================] - 21s 356us/sample - loss: 2.3026 - acc: 0.1150 - val_loss: 2.3009 - val_acc: 0.1324\n",
      "Test loss: 2.300855921173096\n",
      "Test accuracy: 0.1324\n"
     ]
    }
   ],
   "source": [
    "from __future__ import print_function\n",
    "import tensorflow.keras as keras\n",
    "from tensorflow.keras.datasets import mnist\n",
    "from tensorflow.keras.models import Sequential\n",
    "from tensorflow.keras.layers import Dense, Dropout, Flatten\n",
    "from tensorflow.keras.layers import Conv2D, AveragePooling2D\n",
    "from tensorflow.keras.layers import Activation\n",
    "\n",
    "batch_size = 128\n",
    "num_classes = 10\n",
    "epochs = 2\n",
    "\n",
    "# input image dimensions\n",
    "img_rows, img_cols = 28, 28\n",
    "\n",
    "# the data, split between train and test sets\n",
    "(x_train, y_train), (x_test, y_test) = mnist.load_data()\n",
    "\n",
    "x_train = x_train.reshape(x_train.shape[0], img_rows, img_cols, 1)\n",
    "x_test = x_test.reshape(x_test.shape[0], img_rows, img_cols, 1)\n",
    "input_shape = (img_rows, img_cols, 1)\n",
    "\n",
    "x_train = x_train.astype('float32')\n",
    "x_test = x_test.astype('float32')\n",
    "x_train /= 255\n",
    "x_test /= 255\n",
    "print('x_train shape:', x_train.shape)\n",
    "print(x_train.shape[0], 'train samples')\n",
    "print(x_test.shape[0], 'test samples')\n",
    "\n",
    "# convert class vectors to binary class matrices\n",
    "y_train = keras.utils.to_categorical(y_train, num_classes)\n",
    "y_test = keras.utils.to_categorical(y_test, num_classes)\n",
    "\n",
    "model = Sequential()\n",
    "\n",
    "model.add(Conv2D(10, (3, 3), input_shape=input_shape))\n",
    "model.add(AveragePooling2D((2, 2)))\n",
    "model.add(Activation('relu'))\n",
    "model.add(Conv2D(32, (3, 3)))\n",
    "model.add(AveragePooling2D((2, 2)))\n",
    "model.add(Activation('relu'))\n",
    "model.add(Conv2D(64, (3, 3)))\n",
    "model.add(AveragePooling2D((2, 2)))\n",
    "model.add(Activation('relu'))\n",
    "model.add(Flatten())\n",
    "model.add(Dense(num_classes, activation='softmax'))\n",
    "\n",
    "model.compile(loss=keras.losses.categorical_crossentropy,\n",
    "              optimizer=keras.optimizers.Adadelta(),\n",
    "              metrics=['accuracy'])\n",
    "\n",
    "model.fit(x_train, y_train,\n",
    "          batch_size=batch_size,\n",
    "          epochs=epochs,\n",
    "          verbose=1,\n",
    "          validation_data=(x_test, y_test))\n",
    "score = model.evaluate(x_test, y_test, verbose=0)\n",
    "print('Test loss:', score[0])\n",
    "print('Test accuracy:', score[1])"
   ]
  },
  {
   "cell_type": "code",
   "execution_count": 0,
   "metadata": {
    "colab": {},
    "colab_type": "code",
    "id": "gNuX9M_3RGZD"
   },
   "outputs": [],
   "source": [
    "## Save your model's weights for future private prediction\n",
    "model.save('short-conv-mnist.h5')"
   ]
  },
  {
   "cell_type": "markdown",
   "metadata": {
    "colab_type": "text",
    "id": "GGwvh_czRGZG"
   },
   "source": [
    "## Step 2: Load and Serve the Model"
   ]
  },
  {
   "cell_type": "markdown",
   "metadata": {
    "colab_type": "text",
    "id": "60a8L1qpRGZH"
   },
   "source": [
    "Now that you have a trained model with normal Keras, you are ready to serve some private predictions. We can do that using Syft Keras.\n",
    "\n",
    "To secure and serve this model, we will need three TFEWorkers (servers). This is because TF Encrypted under the hood uses an encryption technique called [multi-party computation (MPC)](https://en.wikipedia.org/wiki/Secure_multi-party_computation). The idea is to split the model weights and input data into shares, then send a share of each value to the different servers. The key property is that if you look at the share on one server, it reveals nothing about the original value (input data or model weights).\n",
    "\n",
    "We'll define a Syft Keras model like we did in the previous notebook. However, there is a trick: before instantiating this model, we'll run `hook = sy.KerasHook(tf.keras)`. This will add three important new methods to the Keras Sequential class:\n",
    " - `share`: will secure your model via secret sharing; by default, it will use the SecureNN protocol from TF Encrypted to secret share your model between each of the three TFEWorkers. Most importantly, this will add the capability of providing predictions on encrypted data.\n",
    " - `serve`: this function will launch a serving queue, so that the TFEWorkers can can accept prediction requests on the secured model from external clients.\n",
    " - `shutdown_workers`: once you are done providing private predictions, you can shut down your model by running this function. It will direct you to shutdown the server processes manually if you've opted to manually manage each worker.\n",
    "\n",
    "If you want learn more about MPC, you can read this excellent [blog](https://mortendahl.github.io/2017/04/17/private-deep-learning-with-mpc/)."
   ]
  },
  {
   "cell_type": "code",
   "execution_count": 0,
   "metadata": {
    "colab": {},
    "colab_type": "code",
    "id": "vZ7hXVSjRGZJ"
   },
   "outputs": [],
   "source": [
    "import numpy as np\n",
    "import tensorflow as tf\n",
    "from tensorflow.keras import Sequential\n",
    "from tensorflow.keras.layers import AveragePooling2D, Conv2D, Dense, Activation, Flatten, ReLU, Activation\n",
    "\n",
    "import syft as sy\n",
    "hook = sy.KerasHook(tf.keras)"
   ]
  },
  {
   "cell_type": "markdown",
   "metadata": {
    "colab_type": "text",
    "id": "yGQ95UHoRGZV"
   },
   "source": [
    "## Model\n",
    "\n",
    "As you can see, we define almost the exact same model as before, except we provide a `batch_input_shape`. This allows TF Encrypted to better optimize the secure computations via predefined tensor shapes. For this MNIST demo, we'll send input data with the shape of (1, 28, 28, 1). \n",
    "We also return the logit instead of softmax because this operation is complex to perform using MPC, and we don't need it to serve prediction requests."
   ]
  },
  {
   "cell_type": "code",
   "execution_count": 0,
   "metadata": {
    "colab": {},
    "colab_type": "code",
    "id": "O9RDSlwbRGZX"
   },
   "outputs": [],
   "source": [
    "num_classes = 10\n",
    "input_shape = (1, 28, 28, 1)\n",
    "\n",
    "model = Sequential()\n",
    "\n",
    "model.add(Conv2D(10, (3, 3), batch_input_shape=input_shape))\n",
    "model.add(AveragePooling2D((2, 2)))\n",
    "model.add(Activation('relu'))\n",
    "model.add(Conv2D(32, (3, 3)))\n",
    "model.add(AveragePooling2D((2, 2)))\n",
    "model.add(Activation('relu'))\n",
    "model.add(Conv2D(64, (3, 3)))\n",
    "model.add(AveragePooling2D((2, 2)))\n",
    "model.add(Activation('relu'))\n",
    "model.add(Flatten())\n",
    "model.add(Dense(num_classes, name=\"logit\"))"
   ]
  },
  {
   "cell_type": "markdown",
   "metadata": {
    "colab_type": "text",
    "id": "1-x9fYarRGZc"
   },
   "source": [
    "### Load Pre-trained Weights\n",
    "\n",
    "With `load_weights` you can easily load the weights you have saved previously after training your model."
   ]
  },
  {
   "cell_type": "code",
   "execution_count": 0,
   "metadata": {
    "colab": {},
    "colab_type": "code",
    "id": "Cx_5oGdWRGZd"
   },
   "outputs": [],
   "source": [
    "pre_trained_weights = 'short-conv-mnist.h5'\n",
    "model.load_weights(pre_trained_weights)"
   ]
  },
  {
   "cell_type": "markdown",
   "metadata": {
    "colab_type": "text",
    "id": "L3W71JcPRGZg"
   },
   "source": [
    "## Step 3: Setup Your Worker Connectors\n",
    "\n",
    "Let's now connect to the TFEWorkers (`alice`, `bob`, and `carol`) required by TF Encrypted to perform private predictions. For each TFEWorker, you just have to specify a host.\n",
    "\n",
    "These workers run a [TensorFlow server](https://www.tensorflow.org/api_docs/python/tf/distribute/Server), which you can either manage manually (`AUTO = False`) or ask the workers to manage for you (`AUTO = True`). If choosing to manually manage them, you will be instructed to execute a terminal command on each worker's host device after calling `model.share()` below.  If all workers are hosted on a single device (e.g. `localhost`), you can choose to have Syft automatically manage the worker's TensorFlow server."
   ]
  },
  {
   "cell_type": "code",
   "execution_count": 0,
   "metadata": {
    "colab": {},
    "colab_type": "code",
    "id": "1ggOkKn_RGZi"
   },
   "outputs": [],
   "source": [
    "AUTO = False\n",
    "\n",
    "alice = sy.TFEWorker(host='localhost:4000', auto_managed=AUTO)\n",
    "bob = sy.TFEWorker(host='localhost:4001', auto_managed=AUTO)\n",
    "carol = sy.TFEWorker(host='localhost:4002', auto_managed=AUTO)"
   ]
  },
  {
   "cell_type": "markdown",
   "metadata": {
    "colab_type": "text",
    "id": "tOtTDLxkRGZm"
   },
   "source": [
    "## Step 4: Split the Model Into Shares\n",
    "\n",
    "Thanks to `sy.KerasHook(tf.keras)` you can call the `share` method to transform your model into a TF Encrypted Keras model.\n",
    "\n",
    "If you have asked to manually manage servers above then this step will not complete until they have all been launched. Note that your firewall may ask for Python to accept incoming connection."
   ]
  },
  {
   "cell_type": "code",
   "execution_count": 0,
   "metadata": {
    "colab": {},
    "colab_type": "code",
    "id": "oXHhJq1XRGZn",
    "outputId": "d96a9ad3-71ff-4480-aaab-e1d096d3182a"
   },
   "outputs": [
    {
     "name": "stderr",
     "output_type": "stream",
     "text": [
      "INFO:tf_encrypted:If not done already, please launch the following command in a terminal on host 'localhost:4000':\n",
      "'python -m tf_encrypted.player --config /tmp/tfe.config server0'\n",
      "This can be done automatically in a local subprocess by setting `auto_managed=True` when instantiating a TFEWorker.\n",
      "INFO:tf_encrypted:If not done already, please launch the following command in a terminal on host 'localhost:4001':\n",
      "'python -m tf_encrypted.player --config /tmp/tfe.config server1'\n",
      "This can be done automatically in a local subprocess by setting `auto_managed=True` when instantiating a TFEWorker.\n",
      "INFO:tf_encrypted:If not done already, please launch the following command in a terminal on host 'localhost:4002':\n",
      "'python -m tf_encrypted.player --config /tmp/tfe.config server2'\n",
      "This can be done automatically in a local subprocess by setting `auto_managed=True` when instantiating a TFEWorker.\n",
      "INFO:tf_encrypted:Starting session on target 'grpc://localhost:4000' using config graph_options {\n",
      "}\n",
      "\n"
     ]
    }
   ],
   "source": [
    "model.share(alice, bob, carol)"
   ]
  },
  {
   "cell_type": "markdown",
   "metadata": {
    "colab_type": "text",
    "id": "AJBjp5EuRGZu"
   },
   "source": [
    "## Step 5: Launch 3 Servers\n",
    "\n",
    "```\n",
    "python -m tf_encrypted.player --config /tmp/tfe.config server0\n",
    "python -m tf_encrypted.player --config /tmp/tfe.config server1\n",
    "python -m tf_encrypted.player --config /tmp/tfe.config server2```"
   ]
  },
  {
   "cell_type": "markdown",
   "metadata": {
    "colab_type": "text",
    "id": "K2xfHIFORGZv"
   },
   "source": [
    "## Step 6: Serve the Model\n",
    "\n",
    "Perfect! Now by calling `model.serve`, your model is ready to provide some private predictions. You can set `num_requests` to set a limit on the number of predictions requests served by the model; if not specified then the model will be served until interrupted."
   ]
  },
  {
   "cell_type": "code",
   "execution_count": 0,
   "metadata": {
    "colab": {},
    "colab_type": "code",
    "id": "4UvWCc_lRGZw",
    "outputId": "c4d527e5-d7df-4fc7-e051-1c5eb3a05cb2"
   },
   "outputs": [
    {
     "name": "stdout",
     "output_type": "stream",
     "text": [
      "Served encrypted prediction 1 to client.\n",
      "Served encrypted prediction 2 to client.\n",
      "Served encrypted prediction 3 to client.\n"
     ]
    }
   ],
   "source": [
    "model.serve(num_requests=3)"
   ]
  },
  {
   "cell_type": "markdown",
   "metadata": {
    "colab_type": "text",
    "id": "Y4FmxcpNRGZ2"
   },
   "source": [
    "## Step 7: Run the Client\n",
    "\n",
    "At this point open up and run the companion notebook: Section 4b - Encrytped Keras Client"
   ]
  },
  {
   "cell_type": "markdown",
   "metadata": {
    "colab_type": "text",
    "id": "WtvyWzd9RGZ4"
   },
   "source": [
    "## Step 8: Shutdown the Servers\n",
    "\n",
    "Once your request limit above, the model will no longer be available for serving requests, but it's still secret shared between the three workers above. You can kill the workers by executing the cell below.\n",
    "\n",
    "**Congratulations** on finishing Part 12: Secure Classification with Syft Keras and TFE!"
   ]
  },
  {
   "cell_type": "code",
   "execution_count": 0,
   "metadata": {
    "colab": {},
    "colab_type": "code",
    "id": "X4lW0D_MRGZ8"
   },
   "outputs": [],
   "source": [
    "model.shutdown_workers()\n",
    "\n",
    "if not AUTO:\n",
    "    process_ids = !ps aux | grep '[p]ython -m tf_encrypted.player --config /tmp/tfe.config' | awk '{print $2}'\n",
    "    for process_id in process_ids:\n",
    "        !kill {process_id}\n",
    "        print(\"Process ID {id} has been killed.\".format(id=process_id))"
   ]
  },
  {
   "cell_type": "code",
   "execution_count": 0,
   "metadata": {
    "colab": {},
    "colab_type": "code",
    "id": "HwIbyJUmRGaB"
   },
   "outputs": [],
   "source": []
  },
  {
   "cell_type": "markdown",
   "metadata": {
    "colab_type": "text",
    "id": "GJCCg-xzRGaE"
   },
   "source": [
    "# Keystone Project - Mix and Match What You've Learned\n",
    "\n",
    "Description: Take two of the concepts you've learned about in this course (Encrypted Computation, Federated Learning, Differential Privacy) and combine them for a use case of your own design. Extra credit if you can get your demo working with [WebSocketWorkers](https://github.com/OpenMined/PySyft/tree/dev/examples/tutorials/advanced/websockets-example-MNIST) instead of VirtualWorkers! Then take your demo or example application, write a blogpost, and share that blogpost in #general-discussion on OpenMined's slack!!!\n",
    "\n",
    "Inspiration:\n",
    "- This Course's Code: https://github.com/Udacity/private-ai\n",
    "- OpenMined's Tutorials: https://github.com/OpenMined/PySyft/tree/dev/examples/tutorials\n",
    "- OpenMined's Blog: https://blog.openmined.org"
   ]
  },
  {
   "cell_type": "code",
   "execution_count": 0,
   "metadata": {
    "colab": {},
    "colab_type": "code",
    "id": "FUssYxwaRGaF"
   },
   "outputs": [],
   "source": []
  },
  {
   "cell_type": "code",
   "execution_count": 0,
   "metadata": {
    "colab": {},
    "colab_type": "code",
    "id": "aLe1bngJRGaK"
   },
   "outputs": [],
   "source": []
  },
  {
   "cell_type": "code",
   "execution_count": 0,
   "metadata": {
    "colab": {},
    "colab_type": "code",
    "id": "RI-HWHfgRGaO"
   },
   "outputs": [],
   "source": []
  },
  {
   "cell_type": "code",
   "execution_count": 0,
   "metadata": {
    "colab": {},
    "colab_type": "code",
    "id": "qOaoiojRRGaS"
   },
   "outputs": [],
   "source": []
  },
  {
   "cell_type": "code",
   "execution_count": 0,
   "metadata": {
    "colab": {},
    "colab_type": "code",
    "id": "PDyhJq39RGaV"
   },
   "outputs": [],
   "source": []
  },
  {
   "cell_type": "code",
   "execution_count": 0,
   "metadata": {
    "colab": {},
    "colab_type": "code",
    "id": "4f-mgOdKRGaZ"
   },
   "outputs": [],
   "source": []
  },
  {
   "cell_type": "code",
   "execution_count": 0,
   "metadata": {
    "colab": {},
    "colab_type": "code",
    "id": "EJq7G8AeRGac"
   },
   "outputs": [],
   "source": []
  },
  {
   "cell_type": "code",
   "execution_count": 0,
   "metadata": {
    "colab": {},
    "colab_type": "code",
    "id": "FfULfEbYRGaf"
   },
   "outputs": [],
   "source": []
  },
  {
   "cell_type": "code",
   "execution_count": 0,
   "metadata": {
    "colab": {},
    "colab_type": "code",
    "id": "e_vb3yF2RGai"
   },
   "outputs": [],
   "source": []
  },
  {
   "cell_type": "code",
   "execution_count": 0,
   "metadata": {
    "colab": {},
    "colab_type": "code",
    "id": "FNnZ-Q_eRGan"
   },
   "outputs": [],
   "source": []
  },
  {
   "cell_type": "code",
   "execution_count": 0,
   "metadata": {
    "colab": {},
    "colab_type": "code",
    "id": "ldnLqF1RRGau"
   },
   "outputs": [],
   "source": []
  },
  {
   "cell_type": "code",
   "execution_count": 0,
   "metadata": {
    "colab": {},
    "colab_type": "code",
    "id": "cLt5BhRRRGax"
   },
   "outputs": [],
   "source": []
  },
  {
   "cell_type": "code",
   "execution_count": 0,
   "metadata": {
    "colab": {},
    "colab_type": "code",
    "id": "ewnOta9DRGa0"
   },
   "outputs": [],
   "source": []
  },
  {
   "cell_type": "code",
   "execution_count": 0,
   "metadata": {
    "colab": {},
    "colab_type": "code",
    "id": "D2_EMIdORGa4"
   },
   "outputs": [],
   "source": []
  },
  {
   "cell_type": "code",
   "execution_count": 0,
   "metadata": {
    "colab": {},
    "colab_type": "code",
    "id": "CkNOK5MDRGa6"
   },
   "outputs": [],
   "source": []
  },
  {
   "cell_type": "code",
   "execution_count": 0,
   "metadata": {
    "colab": {},
    "colab_type": "code",
    "id": "PSqDlckDRGa9"
   },
   "outputs": [],
   "source": []
  },
  {
   "cell_type": "code",
   "execution_count": 0,
   "metadata": {
    "colab": {},
    "colab_type": "code",
    "id": "Sp5w2v3BRGbA"
   },
   "outputs": [],
   "source": []
  },
  {
   "cell_type": "code",
   "execution_count": 0,
   "metadata": {
    "colab": {},
    "colab_type": "code",
    "id": "h7LDpr5KRGbD"
   },
   "outputs": [],
   "source": []
  },
  {
   "cell_type": "code",
   "execution_count": 0,
   "metadata": {
    "colab": {},
    "colab_type": "code",
    "id": "f9LhtFcPRGbF"
   },
   "outputs": [],
   "source": []
  }
 ],
 "metadata": {
  "colab": {
   "collapsed_sections": [
    "iwk-6Yc6RGXk",
    "ECRX9s3eRGXl",
    "TCk6nZ0CRGYA",
    "2H_2c_iDRGYt",
    "fERNt4UyRGY6",
    "yjXHB4XfRGY7",
    "GGwvh_czRGZG",
    "yGQ95UHoRGZV",
    "1-x9fYarRGZc",
    "L3W71JcPRGZg",
    "tOtTDLxkRGZm",
    "AJBjp5EuRGZu",
    "K2xfHIFORGZv",
    "Y4FmxcpNRGZ2",
    "WtvyWzd9RGZ4",
    "GJCCg-xzRGaE"
   ],
   "name": "Section 4 - Encrypted Deep Learning.ipynb",
   "provenance": [],
   "version": "0.3.2"
  },
  "kernelspec": {
   "display_name": "Python 3",
   "language": "python",
   "name": "python3"
  },
  "language_info": {
   "codemirror_mode": {
    "name": "ipython",
    "version": 3
   },
   "file_extension": ".py",
   "mimetype": "text/x-python",
   "name": "python",
   "nbconvert_exporter": "python",
   "pygments_lexer": "ipython3",
   "version": "3.7.4"
  }
 },
 "nbformat": 4,
 "nbformat_minor": 1
}
